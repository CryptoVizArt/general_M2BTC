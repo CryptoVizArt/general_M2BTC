{
 "cells": [
  {
   "cell_type": "code",
   "id": "initial_id",
   "metadata": {
    "collapsed": true,
    "ExecuteTime": {
     "end_time": "2025-08-15T04:36:22.920877Z",
     "start_time": "2025-08-15T04:36:22.887587Z"
    }
   },
   "source": [
    "# Read the CSV file from the data folder\n",
    "import pandas as pd\n",
    "import os\n",
    "\n",
    "# Check if data folder exists, if not create it\n",
    "if not os.path.exists('data'):\n",
    "    os.makedirs('data')\n",
    "    print('Created data folder')\n",
    "\n",
    "# Move the file to data folder if it's not already there\n",
    "if os.path.exists('moneySupply_15years_monthly.csv') and not os.path.exists('data/moneySupply_15years_monthly.csv'):\n",
    "    import shutil\n",
    "    shutil.move('moneySupply_15years_monthly.csv', 'data/moneySupply_15years_monthly.csv')\n",
    "    print('Moved file to data folder')\n",
    "\n",
    "# Read the CSV file from the data folder\n",
    "df = pd.read_csv('data/moneySupply_15years_monthly.csv', encoding='UTF-8-SIG')\n",
    "\n",
    "print('Successfully read CSV file from data folder')\n",
    "print('Shape of the dataset:', df.shape)\n",
    "print('\\\n",
    "First few rows:')\n",
    "print(df.head())"
   ],
   "outputs": [
    {
     "name": "stdout",
     "output_type": "stream",
     "text": [
      "Successfully read CSV file from data folder\n",
      "Shape of the dataset: (1294, 178)\n",
      "First few rows:\n",
      "                  DATASET                 SERIES_CODE OBS_MEASURE  \\\n",
      "0  IMF.STA:MFS_MA(10.0.1)  MDG.CIC_OUTDCORP_MAI.XDC.M   OBS_VALUE   \n",
      "1  IMF.STA:MFS_MA(10.0.1)  KNA.CIC_OUTDCORP_MAI.XDC.M   OBS_VALUE   \n",
      "2  IMF.STA:MFS_MA(10.0.1)            BTN.BM_MAI.XDC.M   OBS_VALUE   \n",
      "3  IMF.STA:MFS_MA(10.0.1)  SRB.CIC_OUTDCORP_MAI.XDC.M   OBS_VALUE   \n",
      "4  IMF.STA:MFS_MA(10.0.1)  TGO.CIC_OUTDCORP_MAI.XDC.M   OBS_VALUE   \n",
      "\n",
      "                   COUNTRY                                          INDICATOR  \\\n",
      "0  Madagascar, Republic of  Currency in circulation outside of depository ...   \n",
      "1      St. Kitts and Nevis  Currency in circulation outside of depository ...   \n",
      "2                   Bhutan                                        Broad Money   \n",
      "3      Serbia, Republic of  Currency in circulation outside of depository ...   \n",
      "4                     Togo  Currency in circulation outside of depository ...   \n",
      "\n",
      "                UNIT      2011-M01      2011-M02      2011-M03      2011-M04  \\\n",
      "0  Domestic currency  1.121772e+12  1.114164e+12  1.159607e+12  1.203072e+12   \n",
      "1  Domestic currency  9.616943e+07  9.742699e+07  9.702590e+07  9.956627e+07   \n",
      "2  Domestic currency  4.929999e+10  5.086792e+10  5.092092e+10  5.037401e+10   \n",
      "3  Domestic currency  7.865840e+10  8.104540e+10  8.134130e+10  8.633840e+10   \n",
      "4  Domestic currency  1.768306e+11  1.790589e+11  1.885141e+11  1.863832e+11   \n",
      "\n",
      "   ...      2024-M07      2024-M08      2024-M09      2024-M10      2024-M11  \\\n",
      "0  ...  5.154038e+12  5.231681e+12  5.209631e+12           NaN           NaN   \n",
      "1  ...  2.280315e+08  2.275879e+08  2.266337e+08  2.296161e+08  2.313279e+08   \n",
      "2  ...  2.102159e+11  2.110014e+11  2.150822e+11  2.242316e+11  2.270573e+11   \n",
      "3  ...  3.458245e+11  3.547474e+11  3.580085e+11  3.556842e+11  3.633306e+11   \n",
      "4  ...  4.426806e+11  4.497001e+11  4.132658e+11  4.289472e+11  4.172197e+11   \n",
      "\n",
      "       2024-M12      2025-M01     2025-M02  2025-M03  2025-M04  \n",
      "0           NaN           NaN          NaN       NaN       NaN  \n",
      "1  2.390372e+08  2.360872e+08  233393796.0       NaN       NaN  \n",
      "2           NaN           NaN          NaN       NaN       NaN  \n",
      "3  3.996401e+11  3.760289e+11          NaN       NaN       NaN  \n",
      "4  4.439923e+11           NaN          NaN       NaN       NaN  \n",
      "\n",
      "[5 rows x 178 columns]\n"
     ]
    }
   ],
   "execution_count": 3
  },
  {
   "metadata": {
    "ExecuteTime": {
     "end_time": "2025-08-15T04:36:22.933472Z",
     "start_time": "2025-08-15T04:36:22.931953Z"
    }
   },
   "cell_type": "code",
   "source": "",
   "id": "8807df2fb94e7157",
   "outputs": [],
   "execution_count": null
  }
 ],
 "metadata": {
  "kernelspec": {
   "display_name": "Python 3",
   "language": "python",
   "name": "python3"
  },
  "language_info": {
   "codemirror_mode": {
    "name": "ipython",
    "version": 2
   },
   "file_extension": ".py",
   "mimetype": "text/x-python",
   "name": "python",
   "nbconvert_exporter": "python",
   "pygments_lexer": "ipython2",
   "version": "2.7.6"
  }
 },
 "nbformat": 4,
 "nbformat_minor": 5
}
